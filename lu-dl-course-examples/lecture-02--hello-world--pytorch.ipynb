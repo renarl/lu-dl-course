{
 "cells": [
  {
   "cell_type": "code",
   "execution_count": 1,
   "metadata": {},
   "outputs": [
    {
     "name": "stdout",
     "output_type": "stream",
     "text": [
      "0 3.0 3.0 0.4986551105976105\n",
      "1 2.876981735229492 2.9841086864471436 0.49832314252853394\n",
      "2 2.7357850074768066 2.9532470703125 0.49786341190338135\n",
      "3 2.568342924118042 2.902635097503662 0.4971725046634674\n",
      "4 2.3606197834014893 2.8231945037841797 0.49601292610168457\n",
      "5 2.0849545001983643 2.6959774494171143 0.4937140643596649\n",
      "6 1.6759270429611206 2.4741039276123047 0.4876193106174469\n",
      "7 0.9238618612289429 2.0004048347473145 0.45743149518966675\n",
      "8 -1.3713411092758179 0.3305628299713135 0.12146580964326859\n",
      "9 -3.8884100914001465 2.899578809738159 0.03812034800648689\n",
      "10 -6.567634582519531 0.3493614196777344 0.08550851047039032\n",
      "11 -6.567831993103027 5.363803863525391 0.02663581259548664\n",
      "12 -8.615931510925293 3.3167858123779297 0.0006248481222428381\n",
      "13 -8.61716079711914 3.374661922454834 0.0005615265108644962\n",
      "14 -8.618536949157715 3.426243305206299 0.0005109448684379458\n",
      "15 -8.620057106018066 3.472729206085205 0.0004696625692304224\n",
      "16 -8.621718406677246 3.5149993896484375 0.0004353886761236936\n",
      "17 -8.623518943786621 3.553720235824585 0.0004065222747158259\n",
      "18 -8.625456809997559 3.5894086360931396 0.00038191836210899055\n",
      "19 -8.627528190612793 3.62247371673584 0.0003607274265959859\n"
     ]
    }
   ],
   "source": [
    "import torch\n",
    "from torch.autograd import Variable\n",
    "import torch.nn.functional as F\n",
    "import numpy as np\n",
    "\n",
    "dtype = torch.FloatTensor\n",
    "\n",
    "# Make 2 data points in NumPy.\n",
    "x_data = np.float32([[0,1]])\n",
    "y_data = np.float32([1,0])\n",
    "\n",
    "# Construct a linear model.\n",
    "bb = np.float32([3])\n",
    "WW = np.float32([[3]])\n",
    "\n",
    "x = Variable(torch.from_numpy(x_data).type(dtype), requires_grad=False)\n",
    "y = Variable(torch.from_numpy(y_data).type(dtype), requires_grad=False)\n",
    "\n",
    "b = Variable(torch.from_numpy(bb).type(dtype), requires_grad=True)\n",
    "W = Variable(torch.from_numpy(WW).type(dtype), requires_grad=True)\n",
    "\n",
    "learning_rate = 50.0\n",
    "for t in range(20):\n",
    "    y_pred = F.sigmoid(W.mm(x) + b)\n",
    "    loss = (y_pred - y).pow(2).sum()/2\n",
    "    print(t, W.data[0][0], b.data[0], loss.data[0])\n",
    "\n",
    "    loss.backward()\n",
    "\n",
    "    W.data -= learning_rate * W.grad.data\n",
    "    b.data -= learning_rate * b.grad.data\n",
    "\n",
    "    # Manually zero the gradients after updating weights\n",
    "    W.grad.data.zero_()\n",
    "    b.grad.data.zero_()"
   ]
  },
  {
   "cell_type": "code",
   "execution_count": null,
   "metadata": {},
   "outputs": [],
   "source": []
  }
 ],
 "metadata": {
  "kernelspec": {
   "display_name": "Python 3",
   "language": "python",
   "name": "python3"
  },
  "language_info": {
   "codemirror_mode": {
    "name": "ipython",
    "version": 3
   },
   "file_extension": ".py",
   "mimetype": "text/x-python",
   "name": "python",
   "nbconvert_exporter": "python",
   "pygments_lexer": "ipython3",
   "version": "3.5.2"
  }
 },
 "nbformat": 4,
 "nbformat_minor": 2
}
