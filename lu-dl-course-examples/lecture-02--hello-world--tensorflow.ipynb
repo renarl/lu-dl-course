{
 "cells": [
  {
   "cell_type": "code",
   "execution_count": 1,
   "metadata": {},
   "outputs": [
    {
     "name": "stderr",
     "output_type": "stream",
     "text": [
      "/usr/local/lib/python3.5/dist-packages/h5py/__init__.py:36: FutureWarning: Conversion of the second argument of issubdtype from `float` to `np.floating` is deprecated. In future, it will be treated as `np.float64 == np.dtype(float).type`.\n",
      "  from ._conv import register_converters as _register_converters\n"
     ]
    },
    {
     "name": "stdout",
     "output_type": "stream",
     "text": [
      "[[3.]] [3.] 0.4986551\n",
      "0 [[2.8769817]] [2.9841087] 0.49832314\n",
      "1 [[2.735785]] [2.953247] 0.4978634\n",
      "2 [[2.568343]] [2.902635] 0.4971725\n",
      "3 [[2.3606198]] [2.8231945] 0.49601293\n",
      "4 [[2.0849545]] [2.6959774] 0.49371406\n",
      "5 [[1.6759269]] [2.474104] 0.4876193\n",
      "6 [[0.9238617]] [2.0004046] 0.4574315\n",
      "7 [[-1.3713412]] [0.3305626] 0.12146582\n",
      "8 [[-3.8884084]] [2.8995812] 0.038120557\n",
      "9 [[-6.567646]] [0.34935045] 0.08550962\n",
      "10 [[-6.5678434]] [5.3638344] 0.026636597\n",
      "11 [[-8.6159935]] [3.316765] 0.0006248732\n",
      "12 [[-8.617223]] [3.374644] 0.000561546\n",
      "13 [[-8.618598]] [3.4262276] 0.00051095564\n",
      "14 [[-8.620117]] [3.472715] 0.00046967264\n",
      "15 [[-8.6217785]] [3.5149865] 0.0004353964\n",
      "16 [[-8.623579]] [3.5537088] 0.00040652946\n",
      "17 [[-8.625516]] [3.5893984] 0.00038192185\n",
      "18 [[-8.627587]] [3.6224644] 0.00036072906\n",
      "19 [[-8.629789]] [3.653237] 0.00034232048\n"
     ]
    }
   ],
   "source": [
    "import tensorflow as tf\n",
    "import numpy as np\n",
    "\n",
    "# Make 2 data points in NumPy.\n",
    "x_data = np.float32([[0,1]])\n",
    "y_data = np.float32([1,0])\n",
    "\n",
    "# Construct a linear model.\n",
    "b = tf.Variable(np.float32([3]))\n",
    "W = tf.Variable(np.float32([[3]]))\n",
    "\n",
    "y = tf.sigmoid(tf.matmul(W, x_data) + b)\n",
    "\n",
    "# Minimize the squared errors.\n",
    "loss = tf.reduce_mean(tf.square(y - y_data))\n",
    "optimizer = tf.train.GradientDescentOptimizer(50.0)\n",
    "train = optimizer.minimize(loss)\n",
    "\n",
    "# For initializing the variables.\n",
    "init = tf.global_variables_initializer()\n",
    "\n",
    "# Launch the graph\n",
    "sess = tf.Session()\n",
    "sess.run(init)\n",
    "print (sess.run(W), sess.run(b), sess.run(loss))\n",
    "\n",
    "# Training\n",
    "for step in range(0, 20):\n",
    "    sess.run(train)\n",
    "    if step % 1 == 0:\n",
    "        print (step, sess.run(W), sess.run(b), sess.run(loss))"
   ]
  },
  {
   "cell_type": "code",
   "execution_count": null,
   "metadata": {},
   "outputs": [],
   "source": []
  }
 ],
 "metadata": {
  "kernelspec": {
   "display_name": "Python 3",
   "language": "python",
   "name": "python3"
  },
  "language_info": {
   "codemirror_mode": {
    "name": "ipython",
    "version": 3
   },
   "file_extension": ".py",
   "mimetype": "text/x-python",
   "name": "python",
   "nbconvert_exporter": "python",
   "pygments_lexer": "ipython3",
   "version": "3.5.2"
  }
 },
 "nbformat": 4,
 "nbformat_minor": 2
}
